{
  "nbformat": 4,
  "nbformat_minor": 0,
  "metadata": {
    "colab": {
      "provenance": []
    },
    "kernelspec": {
      "name": "python3",
      "display_name": "Python 3"
    },
    "language_info": {
      "name": "python"
    }
  },
  "cells": [
    {
      "cell_type": "markdown",
      "source": [
        "# Download and Import Libraries"
      ],
      "metadata": {
        "id": "g_KkVYbBTnOF"
      }
    },
    {
      "cell_type": "code",
      "execution_count": 1,
      "metadata": {
        "colab": {
          "base_uri": "https://localhost:8080/"
        },
        "id": "CTpwPznbTeEI",
        "outputId": "e91f877e-d3ce-45a6-d4e6-03ac20151a17"
      },
      "outputs": [
        {
          "output_type": "stream",
          "name": "stdout",
          "text": [
            "Looking in indexes: https://pypi.org/simple, https://us-python.pkg.dev/colab-wheels/public/simple/\n",
            "Collecting cdflib\n",
            "  Downloading cdflib-0.4.9-py3-none-any.whl (72 kB)\n",
            "\u001b[K     |████████████████████████████████| 72 kB 397 kB/s \n",
            "\u001b[?25hRequirement already satisfied: numpy in /usr/local/lib/python3.7/dist-packages (from cdflib) (1.21.6)\n",
            "Installing collected packages: cdflib\n",
            "Successfully installed cdflib-0.4.9\n"
          ]
        }
      ],
      "source": [
        "!pip install cdflib\n",
        "\n",
        "from google.colab import drive\n",
        "import pandas as pd\n",
        "import numpy as np\n",
        "import xarray as xr\n",
        "import torch\n",
        "import datetime\n",
        "from datetime import datetime, timedelta\n",
        "import cdflib\n",
        "import os\n",
        "import sys"
      ]
    },
    {
      "cell_type": "code",
      "source": [
        "drive.mount('/content/drive')"
      ],
      "metadata": {
        "colab": {
          "base_uri": "https://localhost:8080/"
        },
        "id": "_GibmXNbUHgD",
        "outputId": "da4770b2-6c30-4be8-90f8-19298bed375b"
      },
      "execution_count": 2,
      "outputs": [
        {
          "output_type": "stream",
          "name": "stdout",
          "text": [
            "Mounted at /content/drive\n"
          ]
        }
      ]
    },
    {
      "cell_type": "markdown",
      "source": [
        "# Load Datasets"
      ],
      "metadata": {
        "id": "Y6VZBpvgUlwI"
      }
    },
    {
      "cell_type": "code",
      "source": [
        "days = [1, 2, 3, 4, 5, 8, 10, 11, 12, 13, 14, 15, 16, 17, 18, 19, 20, 21, 22, 23, 24, 25, 28]\n",
        "YEAR = 2008\n",
        "MONTH = 2\n",
        "\n",
        "prob_dir = '/content/drive/MyDrive/substorm_prediction/probabilities/fsmi/'\n",
        "mag_dir = '/content/drive/MyDrive/substorm_prediction/Data_science/'\n",
        "\n",
        "prob_mag_dfs = []\n",
        "\n",
        "for day in days:\n",
        "  date = datetime(YEAR, MONTH, day)\n",
        "\n",
        "  # filename\n",
        "  prob_file = 'probability_' + date.strftime('%Y%m%d') + '.csv'\n",
        "  mag_file = 'thg_l2_mag_fsmi_' + date.strftime('%Y%m%d') + '_v01.cdf'\n",
        "\n",
        "  # read probability\n",
        "  prob_df = pd.read_csv(prob_dir + prob_file)\n",
        "  prob_df['time'] = pd.to_datetime(prob_df['time'])\n",
        "\n",
        "  # read magnetometer and convert to DataFrame\n",
        "  mag_xr = cdflib.cdf_to_xarray(mag_dir + mag_file)\n",
        "  mag_df = pd.DataFrame(data=mag_xr['thg_mag_fsmi'].to_numpy(), columns=['H_North', 'E_East', 'Z_Down'])\n",
        "  mag_df['time'] = np.arange(date, date+timedelta(days=1), timedelta(seconds=0.5))\n",
        "  mag_df = mag_df.iloc[::2, :]\n",
        "\n",
        "  # merge probability and magnetometer\n",
        "  combined_df = prob_df.merge(mag_df, on='time')\n",
        "  combined_df = combined_df.reset_index()\n",
        "\n",
        "  prob_mag_dfs.apbpend(combined_df)\n",
        "  "
      ],
      "metadata": {
        "colab": {
          "base_uri": "https://localhost:8080/"
        },
        "id": "lbWVaFZOUNBI",
        "outputId": "d4a00e02-2c60-45a0-8d99-5cd87399f730"
      },
      "execution_count": 3,
      "outputs": [
        {
          "output_type": "stream",
          "name": "stdout",
          "text": [
            "ISTP Compliance Warning: thg_mag_fsmi_epoch is listed as the DEPEND_0 for variable thg_mag_fsmi, but the dimensions do not match.\n",
            "Warning: Variable thg_mag_fsmi listed DEPEND_0 as thg_mag_fsmi_epoch, but they have different dimension lengths.\n",
            "Warning: Variable thg_magh_fsmi listed DEPEND_0 as thg_mag_fsmi_epoch, but they have different dimension lengths.\n",
            "Warning: Variable thg_magd_fsmi listed DEPEND_0 as thg_mag_fsmi_epoch, but they have different dimension lengths.\n",
            "Warning: Variable thg_magz_fsmi listed DEPEND_0 as thg_mag_fsmi_epoch, but they have different dimension lengths.\n",
            "ISTP Compliance Warning: thg_mag_fsmi_epoch is listed as the DEPEND_0 for variable thg_mag_fsmi, but the dimensions do not match.\n",
            "Warning: Variable thg_mag_fsmi listed DEPEND_0 as thg_mag_fsmi_epoch, but they have different dimension lengths.\n",
            "Warning: Variable thg_magh_fsmi listed DEPEND_0 as thg_mag_fsmi_epoch, but they have different dimension lengths.\n",
            "Warning: Variable thg_magd_fsmi listed DEPEND_0 as thg_mag_fsmi_epoch, but they have different dimension lengths.\n",
            "Warning: Variable thg_magz_fsmi listed DEPEND_0 as thg_mag_fsmi_epoch, but they have different dimension lengths.\n",
            "ISTP Compliance Warning: thg_mag_fsmi_epoch is listed as the DEPEND_0 for variable thg_mag_fsmi, but the dimensions do not match.\n",
            "Warning: Variable thg_mag_fsmi listed DEPEND_0 as thg_mag_fsmi_epoch, but they have different dimension lengths.\n",
            "Warning: Variable thg_magh_fsmi listed DEPEND_0 as thg_mag_fsmi_epoch, but they have different dimension lengths.\n",
            "Warning: Variable thg_magd_fsmi listed DEPEND_0 as thg_mag_fsmi_epoch, but they have different dimension lengths.\n",
            "Warning: Variable thg_magz_fsmi listed DEPEND_0 as thg_mag_fsmi_epoch, but they have different dimension lengths.\n",
            "ISTP Compliance Warning: thg_mag_fsmi_epoch is listed as the DEPEND_0 for variable thg_mag_fsmi, but the dimensions do not match.\n",
            "Warning: Variable thg_mag_fsmi listed DEPEND_0 as thg_mag_fsmi_epoch, but they have different dimension lengths.\n",
            "Warning: Variable thg_magh_fsmi listed DEPEND_0 as thg_mag_fsmi_epoch, but they have different dimension lengths.\n",
            "Warning: Variable thg_magd_fsmi listed DEPEND_0 as thg_mag_fsmi_epoch, but they have different dimension lengths.\n",
            "Warning: Variable thg_magz_fsmi listed DEPEND_0 as thg_mag_fsmi_epoch, but they have different dimension lengths.\n",
            "ISTP Compliance Warning: thg_mag_fsmi_epoch is listed as the DEPEND_0 for variable thg_mag_fsmi, but the dimensions do not match.\n",
            "Warning: Variable thg_mag_fsmi listed DEPEND_0 as thg_mag_fsmi_epoch, but they have different dimension lengths.\n",
            "Warning: Variable thg_magh_fsmi listed DEPEND_0 as thg_mag_fsmi_epoch, but they have different dimension lengths.\n",
            "Warning: Variable thg_magd_fsmi listed DEPEND_0 as thg_mag_fsmi_epoch, but they have different dimension lengths.\n",
            "Warning: Variable thg_magz_fsmi listed DEPEND_0 as thg_mag_fsmi_epoch, but they have different dimension lengths.\n",
            "ISTP Compliance Warning: thg_mag_fsmi_epoch is listed as the DEPEND_0 for variable thg_mag_fsmi, but the dimensions do not match.\n",
            "Warning: Variable thg_mag_fsmi listed DEPEND_0 as thg_mag_fsmi_epoch, but they have different dimension lengths.\n",
            "Warning: Variable thg_magh_fsmi listed DEPEND_0 as thg_mag_fsmi_epoch, but they have different dimension lengths.\n",
            "Warning: Variable thg_magd_fsmi listed DEPEND_0 as thg_mag_fsmi_epoch, but they have different dimension lengths.\n",
            "Warning: Variable thg_magz_fsmi listed DEPEND_0 as thg_mag_fsmi_epoch, but they have different dimension lengths.\n",
            "ISTP Compliance Warning: thg_mag_fsmi_epoch is listed as the DEPEND_0 for variable thg_mag_fsmi, but the dimensions do not match.\n",
            "Warning: Variable thg_mag_fsmi listed DEPEND_0 as thg_mag_fsmi_epoch, but they have different dimension lengths.\n",
            "Warning: Variable thg_magh_fsmi listed DEPEND_0 as thg_mag_fsmi_epoch, but they have different dimension lengths.\n",
            "Warning: Variable thg_magd_fsmi listed DEPEND_0 as thg_mag_fsmi_epoch, but they have different dimension lengths.\n",
            "Warning: Variable thg_magz_fsmi listed DEPEND_0 as thg_mag_fsmi_epoch, but they have different dimension lengths.\n",
            "ISTP Compliance Warning: thg_mag_fsmi_epoch is listed as the DEPEND_0 for variable thg_mag_fsmi, but the dimensions do not match.\n",
            "Warning: Variable thg_mag_fsmi listed DEPEND_0 as thg_mag_fsmi_epoch, but they have different dimension lengths.\n",
            "Warning: Variable thg_magh_fsmi listed DEPEND_0 as thg_mag_fsmi_epoch, but they have different dimension lengths.\n",
            "Warning: Variable thg_magd_fsmi listed DEPEND_0 as thg_mag_fsmi_epoch, but they have different dimension lengths.\n",
            "Warning: Variable thg_magz_fsmi listed DEPEND_0 as thg_mag_fsmi_epoch, but they have different dimension lengths.\n",
            "ISTP Compliance Warning: thg_mag_fsmi_epoch is listed as the DEPEND_0 for variable thg_mag_fsmi, but the dimensions do not match.\n",
            "Warning: Variable thg_mag_fsmi listed DEPEND_0 as thg_mag_fsmi_epoch, but they have different dimension lengths.\n",
            "Warning: Variable thg_magh_fsmi listed DEPEND_0 as thg_mag_fsmi_epoch, but they have different dimension lengths.\n",
            "Warning: Variable thg_magd_fsmi listed DEPEND_0 as thg_mag_fsmi_epoch, but they have different dimension lengths.\n",
            "Warning: Variable thg_magz_fsmi listed DEPEND_0 as thg_mag_fsmi_epoch, but they have different dimension lengths.\n",
            "ISTP Compliance Warning: thg_mag_fsmi_epoch is listed as the DEPEND_0 for variable thg_mag_fsmi, but the dimensions do not match.\n",
            "Warning: Variable thg_mag_fsmi listed DEPEND_0 as thg_mag_fsmi_epoch, but they have different dimension lengths.\n",
            "Warning: Variable thg_magh_fsmi listed DEPEND_0 as thg_mag_fsmi_epoch, but they have different dimension lengths.\n",
            "Warning: Variable thg_magd_fsmi listed DEPEND_0 as thg_mag_fsmi_epoch, but they have different dimension lengths.\n",
            "Warning: Variable thg_magz_fsmi listed DEPEND_0 as thg_mag_fsmi_epoch, but they have different dimension lengths.\n",
            "ISTP Compliance Warning: thg_mag_fsmi_epoch is listed as the DEPEND_0 for variable thg_mag_fsmi, but the dimensions do not match.\n",
            "Warning: Variable thg_mag_fsmi listed DEPEND_0 as thg_mag_fsmi_epoch, but they have different dimension lengths.\n",
            "Warning: Variable thg_magh_fsmi listed DEPEND_0 as thg_mag_fsmi_epoch, but they have different dimension lengths.\n",
            "Warning: Variable thg_magd_fsmi listed DEPEND_0 as thg_mag_fsmi_epoch, but they have different dimension lengths.\n",
            "Warning: Variable thg_magz_fsmi listed DEPEND_0 as thg_mag_fsmi_epoch, but they have different dimension lengths.\n",
            "ISTP Compliance Warning: thg_mag_fsmi_epoch is listed as the DEPEND_0 for variable thg_mag_fsmi, but the dimensions do not match.\n",
            "Warning: Variable thg_mag_fsmi listed DEPEND_0 as thg_mag_fsmi_epoch, but they have different dimension lengths.\n",
            "Warning: Variable thg_magh_fsmi listed DEPEND_0 as thg_mag_fsmi_epoch, but they have different dimension lengths.\n",
            "Warning: Variable thg_magd_fsmi listed DEPEND_0 as thg_mag_fsmi_epoch, but they have different dimension lengths.\n",
            "Warning: Variable thg_magz_fsmi listed DEPEND_0 as thg_mag_fsmi_epoch, but they have different dimension lengths.\n",
            "ISTP Compliance Warning: thg_mag_fsmi_epoch is listed as the DEPEND_0 for variable thg_mag_fsmi, but the dimensions do not match.\n",
            "Warning: Variable thg_mag_fsmi listed DEPEND_0 as thg_mag_fsmi_epoch, but they have different dimension lengths.\n",
            "Warning: Variable thg_magh_fsmi listed DEPEND_0 as thg_mag_fsmi_epoch, but they have different dimension lengths.\n",
            "Warning: Variable thg_magd_fsmi listed DEPEND_0 as thg_mag_fsmi_epoch, but they have different dimension lengths.\n",
            "Warning: Variable thg_magz_fsmi listed DEPEND_0 as thg_mag_fsmi_epoch, but they have different dimension lengths.\n",
            "ISTP Compliance Warning: thg_mag_fsmi_epoch is listed as the DEPEND_0 for variable thg_mag_fsmi, but the dimensions do not match.\n",
            "Warning: Variable thg_mag_fsmi listed DEPEND_0 as thg_mag_fsmi_epoch, but they have different dimension lengths.\n",
            "Warning: Variable thg_magh_fsmi listed DEPEND_0 as thg_mag_fsmi_epoch, but they have different dimension lengths.\n",
            "Warning: Variable thg_magd_fsmi listed DEPEND_0 as thg_mag_fsmi_epoch, but they have different dimension lengths.\n",
            "Warning: Variable thg_magz_fsmi listed DEPEND_0 as thg_mag_fsmi_epoch, but they have different dimension lengths.\n",
            "ISTP Compliance Warning: thg_mag_fsmi_epoch is listed as the DEPEND_0 for variable thg_mag_fsmi, but the dimensions do not match.\n",
            "Warning: Variable thg_mag_fsmi listed DEPEND_0 as thg_mag_fsmi_epoch, but they have different dimension lengths.\n",
            "Warning: Variable thg_magh_fsmi listed DEPEND_0 as thg_mag_fsmi_epoch, but they have different dimension lengths.\n",
            "Warning: Variable thg_magd_fsmi listed DEPEND_0 as thg_mag_fsmi_epoch, but they have different dimension lengths.\n",
            "Warning: Variable thg_magz_fsmi listed DEPEND_0 as thg_mag_fsmi_epoch, but they have different dimension lengths.\n",
            "ISTP Compliance Warning: thg_mag_fsmi_epoch is listed as the DEPEND_0 for variable thg_mag_fsmi, but the dimensions do not match.\n",
            "Warning: Variable thg_mag_fsmi listed DEPEND_0 as thg_mag_fsmi_epoch, but they have different dimension lengths.\n",
            "Warning: Variable thg_magh_fsmi listed DEPEND_0 as thg_mag_fsmi_epoch, but they have different dimension lengths.\n",
            "Warning: Variable thg_magd_fsmi listed DEPEND_0 as thg_mag_fsmi_epoch, but they have different dimension lengths.\n",
            "Warning: Variable thg_magz_fsmi listed DEPEND_0 as thg_mag_fsmi_epoch, but they have different dimension lengths.\n",
            "ISTP Compliance Warning: thg_mag_fsmi_epoch is listed as the DEPEND_0 for variable thg_mag_fsmi, but the dimensions do not match.\n",
            "Warning: Variable thg_mag_fsmi listed DEPEND_0 as thg_mag_fsmi_epoch, but they have different dimension lengths.\n",
            "Warning: Variable thg_magh_fsmi listed DEPEND_0 as thg_mag_fsmi_epoch, but they have different dimension lengths.\n",
            "Warning: Variable thg_magd_fsmi listed DEPEND_0 as thg_mag_fsmi_epoch, but they have different dimension lengths.\n",
            "Warning: Variable thg_magz_fsmi listed DEPEND_0 as thg_mag_fsmi_epoch, but they have different dimension lengths.\n",
            "ISTP Compliance Warning: thg_mag_fsmi_epoch is listed as the DEPEND_0 for variable thg_mag_fsmi, but the dimensions do not match.\n",
            "Warning: Variable thg_mag_fsmi listed DEPEND_0 as thg_mag_fsmi_epoch, but they have different dimension lengths.\n",
            "Warning: Variable thg_magh_fsmi listed DEPEND_0 as thg_mag_fsmi_epoch, but they have different dimension lengths.\n",
            "Warning: Variable thg_magd_fsmi listed DEPEND_0 as thg_mag_fsmi_epoch, but they have different dimension lengths.\n",
            "Warning: Variable thg_magz_fsmi listed DEPEND_0 as thg_mag_fsmi_epoch, but they have different dimension lengths.\n",
            "ISTP Compliance Warning: thg_mag_fsmi_epoch is listed as the DEPEND_0 for variable thg_mag_fsmi, but the dimensions do not match.\n",
            "Warning: Variable thg_mag_fsmi listed DEPEND_0 as thg_mag_fsmi_epoch, but they have different dimension lengths.\n",
            "Warning: Variable thg_magh_fsmi listed DEPEND_0 as thg_mag_fsmi_epoch, but they have different dimension lengths.\n",
            "Warning: Variable thg_magd_fsmi listed DEPEND_0 as thg_mag_fsmi_epoch, but they have different dimension lengths.\n",
            "Warning: Variable thg_magz_fsmi listed DEPEND_0 as thg_mag_fsmi_epoch, but they have different dimension lengths.\n",
            "ISTP Compliance Warning: thg_mag_fsmi_epoch is listed as the DEPEND_0 for variable thg_mag_fsmi, but the dimensions do not match.\n",
            "Warning: Variable thg_mag_fsmi listed DEPEND_0 as thg_mag_fsmi_epoch, but they have different dimension lengths.\n",
            "Warning: Variable thg_magh_fsmi listed DEPEND_0 as thg_mag_fsmi_epoch, but they have different dimension lengths.\n",
            "Warning: Variable thg_magd_fsmi listed DEPEND_0 as thg_mag_fsmi_epoch, but they have different dimension lengths.\n",
            "Warning: Variable thg_magz_fsmi listed DEPEND_0 as thg_mag_fsmi_epoch, but they have different dimension lengths.\n",
            "ISTP Compliance Warning: thg_mag_fsmi_epoch is listed as the DEPEND_0 for variable thg_mag_fsmi, but the dimensions do not match.\n",
            "Warning: Variable thg_mag_fsmi listed DEPEND_0 as thg_mag_fsmi_epoch, but they have different dimension lengths.\n",
            "Warning: Variable thg_magh_fsmi listed DEPEND_0 as thg_mag_fsmi_epoch, but they have different dimension lengths.\n",
            "Warning: Variable thg_magd_fsmi listed DEPEND_0 as thg_mag_fsmi_epoch, but they have different dimension lengths.\n",
            "Warning: Variable thg_magz_fsmi listed DEPEND_0 as thg_mag_fsmi_epoch, but they have different dimension lengths.\n",
            "ISTP Compliance Warning: thg_mag_fsmi_epoch is listed as the DEPEND_0 for variable thg_mag_fsmi, but the dimensions do not match.\n",
            "Warning: Variable thg_mag_fsmi listed DEPEND_0 as thg_mag_fsmi_epoch, but they have different dimension lengths.\n",
            "Warning: Variable thg_magh_fsmi listed DEPEND_0 as thg_mag_fsmi_epoch, but they have different dimension lengths.\n",
            "Warning: Variable thg_magd_fsmi listed DEPEND_0 as thg_mag_fsmi_epoch, but they have different dimension lengths.\n",
            "Warning: Variable thg_magz_fsmi listed DEPEND_0 as thg_mag_fsmi_epoch, but they have different dimension lengths.\n",
            "ISTP Compliance Warning: thg_mag_fsmi_epoch is listed as the DEPEND_0 for variable thg_mag_fsmi, but the dimensions do not match.\n",
            "Warning: Variable thg_mag_fsmi listed DEPEND_0 as thg_mag_fsmi_epoch, but they have different dimension lengths.\n",
            "Warning: Variable thg_magh_fsmi listed DEPEND_0 as thg_mag_fsmi_epoch, but they have different dimension lengths.\n",
            "Warning: Variable thg_magd_fsmi listed DEPEND_0 as thg_mag_fsmi_epoch, but they have different dimension lengths.\n",
            "Warning: Variable thg_magz_fsmi listed DEPEND_0 as thg_mag_fsmi_epoch, but they have different dimension lengths.\n"
          ]
        }
      ]
    },
    {
      "cell_type": "markdown",
      "source": [
        "# Load Substorm Onsets"
      ],
      "metadata": {
        "id": "7sZWchV3gUwh"
      }
    },
    {
      "cell_type": "code",
      "source": [
        "onsets = []\n",
        "\n",
        "with open('/content/drive/MyDrive/substorm_prediction/substorm_onsets.txt', 'r') as f:\n",
        "  for line in f.readlines():\n",
        "    tokens = line.split(' ')\n",
        "    if tokens[1].strip('\\n') == 'nothing':\n",
        "      continue\n",
        "\n",
        "    date = datetime.strptime(tokens[0], '%Y-%m-%d')\n",
        "    for time in tokens[1:]:\n",
        "      onsets.append(date + timedelta(hours=int(time[:2]), minutes=int(time[3:5])))\n",
        "  \n",
        "for onset in onsets:\n",
        "  print(onset)"
      ],
      "metadata": {
        "colab": {
          "base_uri": "https://localhost:8080/"
        },
        "id": "H50TQ4WXgUEa",
        "outputId": "6165e23c-deac-41af-ee0e-85f1eacdba05"
      },
      "execution_count": 4,
      "outputs": [
        {
          "output_type": "stream",
          "name": "stdout",
          "text": [
            "2008-02-01 06:14:00\n",
            "2008-02-01 10:08:00\n",
            "2008-02-01 11:12:00\n",
            "2008-02-02 03:41:00\n",
            "2008-02-02 07:40:00\n",
            "2008-02-02 08:12:00\n",
            "2008-02-02 12:42:00\n",
            "2008-02-03 04:56:00\n",
            "2008-02-03 07:15:00\n",
            "2008-02-03 08:01:00\n",
            "2008-02-03 09:10:00\n",
            "2008-02-04 04:02:00\n",
            "2008-02-04 08:43:00\n",
            "2008-02-05 04:36:00\n",
            "2008-02-05 12:11:00\n",
            "2008-02-08 06:27:00\n",
            "2008-02-10 05:50:00\n",
            "2008-02-10 07:16:00\n",
            "2008-02-10 10:25:00\n",
            "2008-02-10 12:24:00\n",
            "2008-02-11 04:27:00\n",
            "2008-02-11 07:15:00\n",
            "2008-02-11 08:31:00\n",
            "2008-02-12 06:27:00\n",
            "2008-02-12 08:49:00\n",
            "2008-02-12 09:42:00\n",
            "2008-02-13 07:53:00\n",
            "2008-02-14 06:56:00\n",
            "2008-02-15 06:13:00\n",
            "2008-02-15 10:14:00\n",
            "2008-02-16 05:10:00\n",
            "2008-02-16 08:06:00\n",
            "2008-02-17 07:32:00\n",
            "2008-02-17 08:17:00\n",
            "2008-02-17 09:22:00\n",
            "2008-02-18 09:15:00\n",
            "2008-02-18 11:52:00\n",
            "2008-02-19 05:24:00\n",
            "2008-02-19 07:24:00\n",
            "2008-02-19 08:12:00\n",
            "2008-02-20 07:06:00\n",
            "2008-02-21 08:15:00\n",
            "2008-02-21 12:09:00\n",
            "2008-02-22 06:05:00\n",
            "2008-02-22 06:48:00\n",
            "2008-02-22 09:28:00\n",
            "2008-02-23 06:21:00\n",
            "2008-02-23 07:13:00\n",
            "2008-02-24 10:02:00\n",
            "2008-02-25 08:14:00\n",
            "2008-02-25 09:55:00\n"
          ]
        }
      ]
    },
    {
      "cell_type": "markdown",
      "source": [
        "# Normalization"
      ],
      "metadata": {
        "id": "zFydT9-bwE0B"
      }
    },
    {
      "cell_type": "code",
      "source": [
        "# features\n",
        "columns = ['arc', 'diffuse', 'discrete', 'cloudy', 'moon', 'clear', \n",
        "           'H_North',\t'E_East',\t'Z_Down']\n",
        "\n",
        "# concatenate and normalization\n",
        "big_df = pd.concat(prob_mag_dfs)\n",
        "big_df[columns] = ((big_df[columns] - big_df[columns].mean()) / big_df[columns].std()).astype(float)\n",
        "\n",
        "# split by day\n",
        "normalized_dfs = []\n",
        "for day in days:\n",
        "  day_df = big_df[big_df['time'].dt.day == day]\n",
        "  normalized_dfs.append(day_df)"
      ],
      "metadata": {
        "id": "EsCxm7GYwDcB"
      },
      "execution_count": 5,
      "outputs": []
    },
    {
      "cell_type": "markdown",
      "source": [
        "# Split to 30-minutes Datapoints"
      ],
      "metadata": {
        "id": "LuuXDJ3wdtr0"
      }
    },
    {
      "cell_type": "code",
      "source": [
        "# split data\n",
        "inputs = []\n",
        "labels = []\n",
        "\n",
        "for df in normalized_dfs:\n",
        "  # start at minutes = 0, 15, 30, 60\n",
        "  raw_start, raw_end = df['time'][0], df['time'][len(df)-1]\n",
        "  t1 = datetime(raw_start.year, raw_start.month, raw_start.day, raw_start.hour)\n",
        "  for start_t in np.arange(t1, t1+timedelta(hours=1, minutes=1), timedelta(minutes=15)):\n",
        "    if raw_start <= start_t:\n",
        "      new_start = start_t\n",
        "      break\n",
        "  t2 = datetime(raw_end.year, raw_end.month, raw_end.day, raw_end.hour) - timedelta(seconds=3)\n",
        "  for end_t in np.arange(t2, t2+timedelta(minutes=46), timedelta(minutes=15)):\n",
        "    if raw_end < end_t:\n",
        "      break\n",
        "    new_end = end_t\n",
        "\n",
        "  # split into 30-minutes chunks (there are overlaps due to 15-min shift)\n",
        "  for start_time in np.arange(new_start, new_end, np.timedelta64(15, 'm')):\n",
        "      # split dataset\n",
        "      end_time = start_time + np.timedelta64(30, 'm')\n",
        "      datapoint = df[(df['time'] >= start_time) & (df['time'] < end_time)]\n",
        "      datapoint = datapoint[columns]\n",
        "      \n",
        "      # discard missing values\n",
        "      if datapoint.shape[0] != 20 * 30:\n",
        "        continue\n",
        "\n",
        "      # label 1 if substorms happens during the 30 minutes\n",
        "      is_substorm = 0\n",
        "      for onset in onsets:\n",
        "        if start_time <= onset and end_time > onset:\n",
        "          is_substorm = 1\n",
        "          break\n",
        "\n",
        "      #print(datapoint.shape)\n",
        "      inputs.append(torch.Tensor(datapoint.to_numpy()))\n",
        "      labels.append(float(is_substorm))\n",
        "\n",
        "# convert to tensor\n",
        "inputs = torch.stack(inputs)\n",
        "labels = torch.tensor(labels)\n",
        "\n",
        "# split to train and test\n",
        "train_input = inputs[:int(0.8 * inputs.size()[0])]\n",
        "train_label = labels[:int(0.8 * labels.size()[0])]\n",
        "test_input = inputs[int(0.8 * inputs.size()[0]):]\n",
        "test_label = labels[int(0.8 * labels.size()[0]):]"
      ],
      "metadata": {
        "id": "rnP0wxzbcMyJ"
      },
      "execution_count": null,
      "outputs": []
    },
    {
      "cell_type": "markdown",
      "source": [
        "# Save Datasets\n",
        "\n",
        "Inputs and labels for both training and test are saved as `torch.tensor`"
      ],
      "metadata": {
        "id": "_UMjjG9n6iOp"
      }
    },
    {
      "cell_type": "code",
      "source": [
        "train_dir = '/content/drive/MyDrive/substorm_prediction/train/'\n",
        "test_dir = '/content/drive/MyDrive/substorm_prediction/test/'\n",
        "\n",
        "torch.save(train_input, train_dir + 'input.pt')\n",
        "torch.save(train_label, train_dir + 'label.pt')\n",
        "torch.save(test_input, test_dir + 'input.pt')\n",
        "torch.save(test_label, test_dir + 'label.pt')"
      ],
      "metadata": {
        "id": "W2o6RUoh0-nE"
      },
      "execution_count": null,
      "outputs": []
    }
  ]
}