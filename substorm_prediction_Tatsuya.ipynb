{
  "nbformat": 4,
  "nbformat_minor": 0,
  "metadata": {
    "colab": {
      "provenance": []
    },
    "kernelspec": {
      "name": "python3",
      "display_name": "Python 3"
    },
    "language_info": {
      "name": "python"
    }
  },
  "cells": [
    {
      "cell_type": "code",
      "execution_count": 2,
      "metadata": {
        "id": "RXh0gMZ8ZWyG"
      },
      "outputs": [],
      "source": [
        "from google.colab import drive\n",
        "import numpy as np\n",
        "import matplotlib.pyplot as plt\n",
        "import torch\n",
        "from torch import nn"
      ]
    },
    {
      "cell_type": "code",
      "source": [
        "drive.mount('/content/drive')"
      ],
      "metadata": {
        "colab": {
          "base_uri": "https://localhost:8080/"
        },
        "id": "yQb7sV7RZvDY",
        "outputId": "f2bd037c-85f3-4b92-f0dc-cca31c3bf585"
      },
      "execution_count": 3,
      "outputs": [
        {
          "output_type": "stream",
          "name": "stdout",
          "text": [
            "Mounted at /content/drive\n"
          ]
        }
      ]
    },
    {
      "cell_type": "markdown",
      "source": [
        "# Custom Dataset and LSTM model"
      ],
      "metadata": {
        "id": "dqYTiwSwTxs1"
      }
    },
    {
      "cell_type": "code",
      "source": [
        "class MyDataset(torch.utils.data.Dataset):\n",
        "    def __init__(self, file_path):\n",
        "        self.input = torch.load(file_path + 'input.pt')\n",
        "        self.label = torch.load(file_path + 'label.pt')\n",
        "\n",
        "    def __len__(self):\n",
        "        return self.input.shape[0]\n",
        "\n",
        "    def __getitem__(self, idx):\n",
        "        return self.input[idx], self.label[idx]\n",
        "\n",
        "\n",
        "train_dir = '/content/drive/MyDrive/substorm_prediction/train/'\n",
        "test_dir = '/content/drive/MyDrive/substorm_prediction/test/'\n",
        "\n",
        "train_dataset = MyDataset(train_dir)\n",
        "test_dataset = MyDataset(test_dir)"
      ],
      "metadata": {
        "id": "v0L2axmu7Qrv"
      },
      "execution_count": 4,
      "outputs": []
    },
    {
      "cell_type": "code",
      "source": [
        "class MyModel(nn.Module):\n",
        "    def __init__(self, input_dim, seq_len, hidden_dim, num_layers=1, dropout=0):\n",
        "        super(MyModel, self).__init__()\n",
        "\n",
        "        self.lstm = nn.LSTM(input_size = input_dim, \n",
        "                            hidden_size = hidden_dim, \n",
        "                            num_layers = num_layers, \n",
        "                            dropout = dropout if num_layers > 1 else 0,\n",
        "                            batch_first = True)\n",
        "        \n",
        "        self.linear = nn.Linear(hidden_dim * seq_len, 1)\n",
        "\n",
        "        self.dropout = dropout\n",
        "\n",
        "    def forward(self, input):\n",
        "        lstm_out, _ = self.lstm(input)\n",
        "        relu_out = nn.ReLU()(lstm_out)\n",
        "        dropout_out = nn.Dropout(self.dropout)(relu_out)\n",
        "        flatten_out = nn.Flatten()(dropout_out)\n",
        "        linear_out = self.linear(flatten_out)\n",
        "        return nn.Sigmoid()(linear_out)"
      ],
      "metadata": {
        "id": "lCFMuqrVuQgt"
      },
      "execution_count": 5,
      "outputs": []
    },
    {
      "cell_type": "code",
      "source": [
        "input_dim = 9\n",
        "seq_len = 600\n",
        "hidden_dim = 5\n",
        "num_layers = 2\n",
        "dropout = 0.2\n",
        "\n",
        "lstm_model = MyModel(input_dim, seq_len, hidden_dim, num_layers, dropout)\n",
        "\n",
        "# take a look at the shape of the weights for each layer\n",
        "for p in lstm_model.parameters():\n",
        "    print(p.data.shape)\n",
        "\n",
        "# our model has some # of parameters:\n",
        "count = 0\n",
        "for p in lstm_model.parameters():\n",
        "    n_params = np.prod(list(p.data.shape)).item()\n",
        "    count += n_params\n",
        "print(f'total params: {count}')"
      ],
      "metadata": {
        "colab": {
          "base_uri": "https://localhost:8080/"
        },
        "id": "YHQOry43EXo6",
        "outputId": "ede714e6-28d3-4550-b04a-3637d1294f18"
      },
      "execution_count": 6,
      "outputs": [
        {
          "output_type": "stream",
          "name": "stdout",
          "text": [
            "torch.Size([20, 9])\n",
            "torch.Size([20, 5])\n",
            "torch.Size([20])\n",
            "torch.Size([20])\n",
            "torch.Size([20, 5])\n",
            "torch.Size([20, 5])\n",
            "torch.Size([20])\n",
            "torch.Size([20])\n",
            "torch.Size([1, 3000])\n",
            "torch.Size([1])\n",
            "total params: 3561\n"
          ]
        }
      ]
    },
    {
      "cell_type": "markdown",
      "source": [
        "# Training"
      ],
      "metadata": {
        "id": "RbqHq-UCUJVW"
      }
    },
    {
      "cell_type": "code",
      "source": [
        "def run_training_loop(model, batch_size=32, n_epochs=10, lr=1e-3):\n",
        "\n",
        "    # We could write our training procedure manually and directly index the `Dataset` objects,\n",
        "    # but the `DataLoader` object conveniently creates an iterable for automatically creating random minibatches:\n",
        "    train_loader = torch.utils.data.DataLoader(train_dataset, batch_size=batch_size, shuffle=True)\n",
        "    test_loader = torch.utils.data.DataLoader(test_dataset, batch_size=batch_size, shuffle=False)\n",
        "\n",
        "    # Choose Adam as the optimizer\n",
        "    optimizer = torch.optim.Adam(model.parameters(), lr=lr)\n",
        "\n",
        "    # Use the cross entropy loss function\n",
        "    loss_fn = nn.BCELoss()\n",
        "\n",
        "    # store metrics\n",
        "    train_loss_history = np.zeros([n_epochs, 1])\n",
        "    test_accuracy_history = np.zeros([n_epochs, 1])\n",
        "    test_loss_history = np.zeros([n_epochs, 1])\n",
        "\n",
        "    for epoch in range(n_epochs):\n",
        "\n",
        "        # Some layers, such as Dropout, behave differently during training\n",
        "        model.train()\n",
        "\n",
        "        train_loss = 0\n",
        "        for batch_idx, (data, target) in enumerate(train_loader):\n",
        "\n",
        "            # Erase accumulated gradients\n",
        "            optimizer.zero_grad()\n",
        "\n",
        "            # Forward pass\n",
        "            output = torch.squeeze(model(data))\n",
        "\n",
        "            # Calculate loss\n",
        "            loss = loss_fn(output, target)\n",
        "            train_loss += loss.item()\n",
        "\n",
        "            # Backward pass\n",
        "            loss.backward()\n",
        "            \n",
        "            # Weight update\n",
        "            optimizer.step()\n",
        "\n",
        "        train_loss_history[epoch] = train_loss / len(train_loader.dataset)\n",
        "\n",
        "        # Track loss each epoch\n",
        "        print('Train Epoch: %d  Average loss: %.4f' %\n",
        "              (epoch + 1,  train_loss_history[epoch]))\n",
        "\n",
        "        # Putting layers like Dropout into evaluation mode\n",
        "        model.eval()\n",
        "\n",
        "        test_loss = 0\n",
        "        correct = 0\n",
        "\n",
        "        # Turning off automatic differentiation\n",
        "        with torch.no_grad():\n",
        "            for data, target in test_loader:\n",
        "                output = torch.squeeze(model(data))\n",
        "                test_loss += loss_fn(output, target).item()  # Sum up batch loss\n",
        "                pred = output >= 0.5 # Get the index of the max class score\n",
        "                correct += pred.eq(target.bool()).sum().item()\n",
        "\n",
        "        test_loss_history[epoch] = test_loss / len(test_loader.dataset)\n",
        "        test_accuracy_history[epoch] = correct / len(test_loader.dataset)\n",
        "\n",
        "        print('Valid set: Average loss: %.4f, Accuracy: %d/%d (%.4f)\\n' %\n",
        "              (test_loss_history[epoch], correct, len(test_loader.dataset),\n",
        "              100. * test_accuracy_history[epoch]))\n",
        "    \n",
        "    return model, train_loss_history, test_loss_history, test_accuracy_history"
      ],
      "metadata": {
        "id": "qw6jSZ_O98Iz"
      },
      "execution_count": 7,
      "outputs": []
    },
    {
      "cell_type": "code",
      "source": [
        "trained_model, train_loss_history, test_loss_history, test_accuracy_history = run_training_loop(lstm_model, batch_size=4, n_epochs=10)"
      ],
      "metadata": {
        "colab": {
          "base_uri": "https://localhost:8080/"
        },
        "id": "Cbp0VZ0P-j58",
        "outputId": "fc652e20-def5-4ad6-b083-423c42ee953e"
      },
      "execution_count": 22,
      "outputs": [
        {
          "output_type": "stream",
          "name": "stdout",
          "text": [
            "Train Epoch: 1  Average loss: 0.0802\n",
            "Valid set: Average loss: 0.2064, Accuracy: 50/70 (71.4286)\n",
            "\n",
            "Train Epoch: 2  Average loss: 0.0778\n",
            "Valid set: Average loss: 0.1941, Accuracy: 51/70 (72.8571)\n",
            "\n",
            "Train Epoch: 3  Average loss: 0.0749\n",
            "Valid set: Average loss: 0.1826, Accuracy: 52/70 (74.2857)\n",
            "\n",
            "Train Epoch: 4  Average loss: 0.0708\n",
            "Valid set: Average loss: 0.2159, Accuracy: 51/70 (72.8571)\n",
            "\n",
            "Train Epoch: 5  Average loss: 0.0683\n",
            "Valid set: Average loss: 0.1980, Accuracy: 51/70 (72.8571)\n",
            "\n",
            "Train Epoch: 6  Average loss: 0.0673\n",
            "Valid set: Average loss: 0.2177, Accuracy: 51/70 (72.8571)\n",
            "\n",
            "Train Epoch: 7  Average loss: 0.0613\n",
            "Valid set: Average loss: 0.2049, Accuracy: 48/70 (68.5714)\n",
            "\n",
            "Train Epoch: 8  Average loss: 0.0609\n",
            "Valid set: Average loss: 0.2248, Accuracy: 51/70 (72.8571)\n",
            "\n",
            "Train Epoch: 9  Average loss: 0.0584\n",
            "Valid set: Average loss: 0.2606, Accuracy: 50/70 (71.4286)\n",
            "\n",
            "Train Epoch: 10  Average loss: 0.0545\n",
            "Valid set: Average loss: 0.2646, Accuracy: 48/70 (68.5714)\n",
            "\n"
          ]
        }
      ]
    },
    {
      "cell_type": "markdown",
      "source": [
        "# Results"
      ],
      "metadata": {
        "id": "hedom5oiTpQK"
      }
    },
    {
      "cell_type": "code",
      "source": [
        "plt.plot(np.arange(1, 11), train_loss_history, label='train')\n",
        "plt.plot(np.arange(1, 11), test_loss_history, label='test')\n",
        "plt.legend()\n",
        "plt.xlabel('Epoch')\n",
        "plt.ylabel('Average Loss')\n",
        "plt.title('Average Training and Test Loss')\n",
        "plt.xticks(np.arange(1, 11))\n",
        "plt.grid()\n",
        "plt.show()"
      ],
      "metadata": {
        "colab": {
          "base_uri": "https://localhost:8080/",
          "height": 295
        },
        "id": "AVghfXZNFvZo",
        "outputId": "d9028c4c-a3db-4cd8-da75-00ab0eedb021"
      },
      "execution_count": 33,
      "outputs": [
        {
          "output_type": "display_data",
          "data": {
            "text/plain": [
              "<Figure size 432x288 with 1 Axes>"
            ],
            "image/png": "[encoded data removed]"
          },
          "metadata": {
            "needs_background": "light"
          }
        }
      ]
    },
    {
      "cell_type": "code",
      "source": [
        "plt.plot(np.arange(1, 11), test_accuracy_history)\n",
        "plt.ylim(0, 1)\n",
        "plt.xlabel('Epoch')\n",
        "plt.ylabel('Accuracy')\n",
        "plt.title('Test Accuracy History')\n",
        "plt.xticks(np.arange(1, 11))\n",
        "plt.yticks(np.arange(0, 1.1, 0.1))\n",
        "plt.grid()\n",
        "plt.show()"
      ],
      "metadata": {
        "id": "gn4LiXlkN1Xy",
        "colab": {
          "base_uri": "https://localhost:8080/",
          "height": 295
        },
        "outputId": "8e6352b0-a53b-44e4-e2df-4b4cb385281f"
      },
      "execution_count": 34,
      "outputs": [
        {
          "output_type": "display_data",
          "data": {
            "text/plain": [
              "<Figure size 432x288 with 1 Axes>"
            ],
            "image/png": "[encoded data removed]"
          },
          "metadata": {
            "needs_background": "light"
          }
        }
      ]
    },
    {
      "cell_type": "code",
      "source": [],
      "metadata": {
        "id": "-qzql-SFSBQv"
      },
      "execution_count": null,
      "outputs": []
    }
  ]
}