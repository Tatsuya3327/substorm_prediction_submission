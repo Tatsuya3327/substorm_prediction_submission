{
  "cells": [
    {
      "cell_type": "markdown",
      "id": "e435e823",
      "metadata": {
        "id": "e435e823"
      },
      "source": [
        "# Download and Import Libraries "
      ]
    },
    {
      "cell_type": "code",
      "execution_count": null,
      "id": "b998dd63",
      "metadata": {
        "id": "b998dd63",
        "outputId": "516171fb-8ae3-4443-f7d3-144552553715"
      },
      "outputs": [
        {
          "name": "stdout",
          "output_type": "stream",
          "text": [
            "Requirement already satisfied: cdflib in /Users/t.k/opt/anaconda3/lib/python3.8/site-packages (0.4.9)\n",
            "Requirement already satisfied: numpy in /Users/t.k/opt/anaconda3/lib/python3.8/site-packages (from cdflib) (1.23.3)\n",
            "\n",
            "\u001b[1m[\u001b[0m\u001b[34;49mnotice\u001b[0m\u001b[1;39;49m]\u001b[0m\u001b[39;49m A new release of pip available: \u001b[0m\u001b[31;49m22.3\u001b[0m\u001b[39;49m -> \u001b[0m\u001b[32;49m22.3.1\u001b[0m\n",
            "\u001b[1m[\u001b[0m\u001b[34;49mnotice\u001b[0m\u001b[1;39;49m]\u001b[0m\u001b[39;49m To update, run: \u001b[0m\u001b[32;49mpip install --upgrade pip\u001b[0m\n",
            "Requirement already satisfied: xarray in /Users/t.k/opt/anaconda3/lib/python3.8/site-packages (2022.11.0)\n",
            "Requirement already satisfied: pandas>=1.3 in /Users/t.k/opt/anaconda3/lib/python3.8/site-packages (from xarray) (1.5.2)\n",
            "Requirement already satisfied: packaging>=21.0 in /Users/t.k/opt/anaconda3/lib/python3.8/site-packages (from xarray) (21.3)\n",
            "Requirement already satisfied: numpy>=1.20 in /Users/t.k/opt/anaconda3/lib/python3.8/site-packages (from xarray) (1.23.3)\n",
            "Requirement already satisfied: pyparsing!=3.0.5,>=2.0.2 in /Users/t.k/opt/anaconda3/lib/python3.8/site-packages (from packaging>=21.0->xarray) (3.0.9)\n",
            "Requirement already satisfied: python-dateutil>=2.8.1 in /Users/t.k/opt/anaconda3/lib/python3.8/site-packages (from pandas>=1.3->xarray) (2.8.2)\n",
            "Requirement already satisfied: pytz>=2020.1 in /Users/t.k/opt/anaconda3/lib/python3.8/site-packages (from pandas>=1.3->xarray) (2022.1)\n",
            "Requirement already satisfied: six>=1.5 in /Users/t.k/opt/anaconda3/lib/python3.8/site-packages (from python-dateutil>=2.8.1->pandas>=1.3->xarray) (1.16.0)\n",
            "\n",
            "\u001b[1m[\u001b[0m\u001b[34;49mnotice\u001b[0m\u001b[1;39;49m]\u001b[0m\u001b[39;49m A new release of pip available: \u001b[0m\u001b[31;49m22.3\u001b[0m\u001b[39;49m -> \u001b[0m\u001b[32;49m22.3.1\u001b[0m\n",
            "\u001b[1m[\u001b[0m\u001b[34;49mnotice\u001b[0m\u001b[1;39;49m]\u001b[0m\u001b[39;49m To update, run: \u001b[0m\u001b[32;49mpip install --upgrade pip\u001b[0m\n"
          ]
        }
      ],
      "source": [
        "!pip install cdflib\n",
        "!pip install xarray\n",
        "\n",
        "import glob\n",
        "import pandas as pd\n",
        "import cdflib\n",
        "import xarray as xr\n",
        "from datetime import datetime, timedelta\n",
        "from PIL import Image, ImageOps\n",
        "import regex as re\n",
        "import os"
      ]
    },
    {
      "cell_type": "markdown",
      "id": "a0a5841f",
      "metadata": {
        "id": "a0a5841f"
      },
      "source": [
        "# Helper Functions"
      ]
    },
    {
      "cell_type": "code",
      "execution_count": null,
      "id": "4220581c",
      "metadata": {
        "id": "4220581c"
      },
      "outputs": [],
      "source": [
        "def preprocess_image(images):\n",
        "    normalized_images = []\n",
        "    for image in images:\n",
        "        new_image = image - np.percentile(image, 1) # subtract 1st percentile\n",
        "        new_image = new_image / np.percentile(image, 99) # devide by 99th percentile\n",
        "        new_image = np.maximum(np.zeros(new_image.shape), new_image) # set negative to 0\n",
        "        new_image = np.minimum(np.ones(new_image.shape), new_image) # set upper bound to 1\n",
        "        new_image = (new_image * 255).astype(np.uint8)\n",
        "        normalized_images.append(new_image)\n",
        "    return normalized_images\n",
        "\n",
        "def convert_cdf_to_png(images, times, dest_dir):\n",
        "    # preprocess images\n",
        "    images = preprocess_image(images)\n",
        "\n",
        "    for image, time_str in zip(images, times):\n",
        "\n",
        "        # convert to PIL Image\n",
        "        im = Image.fromarray(image)\n",
        "\n",
        "        # grayscale\n",
        "        im = ImageOps.grayscale(im)\n",
        "\n",
        "        # save as png in destination format\n",
        "        im.save(f'{dest_dir}/image_{time_str}.png')"
      ]
    },
    {
      "cell_type": "markdown",
      "id": "e81f87da",
      "metadata": {
        "id": "e81f87da"
      },
      "source": [
        "# Load Image Datasets\n",
        "\n",
        "This file expects image data to be stored under `data/cdfs/images/fsmi_image/` and each date should have own folder in the format of `YYYYMMDD`. Each cdf file contains all sky images taken once in 3 seconds. Images and times are stored in `thg_asf_fsmi` and `thg_asf_fsmi_epoch`, respectively."
      ]
    },
    {
      "cell_type": "code",
      "execution_count": null,
      "id": "7b77c5a9",
      "metadata": {
        "id": "7b77c5a9",
        "outputId": "f9333f09-146d-4392-c672-9d5ecf730051"
      },
      "outputs": [
        {
          "name": "stdout",
          "output_type": "stream",
          "text": [
            "Requirement already satisfied: cdflib in /Users/t.k/opt/anaconda3/lib/python3.8/site-packages (0.4.9)\n",
            "Requirement already satisfied: numpy in /Users/t.k/opt/anaconda3/lib/python3.8/site-packages (from cdflib) (1.23.3)\n",
            "\n",
            "\u001b[1m[\u001b[0m\u001b[34;49mnotice\u001b[0m\u001b[1;39;49m]\u001b[0m\u001b[39;49m A new release of pip available: \u001b[0m\u001b[31;49m22.3\u001b[0m\u001b[39;49m -> \u001b[0m\u001b[32;49m22.3.1\u001b[0m\n",
            "\u001b[1m[\u001b[0m\u001b[34;49mnotice\u001b[0m\u001b[1;39;49m]\u001b[0m\u001b[39;49m To update, run: \u001b[0m\u001b[32;49mpip install --upgrade pip\u001b[0m\n",
            "Requirement already satisfied: xarray in /Users/t.k/opt/anaconda3/lib/python3.8/site-packages (2022.11.0)\n",
            "Requirement already satisfied: numpy>=1.20 in /Users/t.k/opt/anaconda3/lib/python3.8/site-packages (from xarray) (1.23.3)\n",
            "Requirement already satisfied: packaging>=21.0 in /Users/t.k/opt/anaconda3/lib/python3.8/site-packages (from xarray) (21.3)\n",
            "Requirement already satisfied: pandas>=1.3 in /Users/t.k/opt/anaconda3/lib/python3.8/site-packages (from xarray) (1.5.2)\n",
            "Requirement already satisfied: pyparsing!=3.0.5,>=2.0.2 in /Users/t.k/opt/anaconda3/lib/python3.8/site-packages (from packaging>=21.0->xarray) (3.0.9)\n",
            "Requirement already satisfied: pytz>=2020.1 in /Users/t.k/opt/anaconda3/lib/python3.8/site-packages (from pandas>=1.3->xarray) (2022.1)\n",
            "Requirement already satisfied: python-dateutil>=2.8.1 in /Users/t.k/opt/anaconda3/lib/python3.8/site-packages (from pandas>=1.3->xarray) (2.8.2)\n",
            "Requirement already satisfied: six>=1.5 in /Users/t.k/opt/anaconda3/lib/python3.8/site-packages (from python-dateutil>=2.8.1->pandas>=1.3->xarray) (1.16.0)\n",
            "\n",
            "\u001b[1m[\u001b[0m\u001b[34;49mnotice\u001b[0m\u001b[1;39;49m]\u001b[0m\u001b[39;49m A new release of pip available: \u001b[0m\u001b[31;49m22.3\u001b[0m\u001b[39;49m -> \u001b[0m\u001b[32;49m22.3.1\u001b[0m\n",
            "\u001b[1m[\u001b[0m\u001b[34;49mnotice\u001b[0m\u001b[1;39;49m]\u001b[0m\u001b[39;49m To update, run: \u001b[0m\u001b[32;49mpip install --upgrade pip\u001b[0m\n",
            "complete loading day 16\n",
            "complete loading day 11\n",
            "complete loading day 18\n",
            "complete loading day 20\n",
            "complete loading day 21\n",
            "complete loading day 19\n",
            "complete loading day 10\n",
            "complete loading day 17\n",
            "complete loading day 28\n",
            "complete loading day 4\n",
            "complete loading day 3\n",
            "complete loading day 2\n",
            "complete loading day 5\n",
            "complete loading day 12\n",
            "complete loading day 15\n",
            "complete loading day 23\n",
            "complete loading day 24\n",
            "complete loading day 25\n",
            "complete loading day 22\n",
            "complete loading day 14\n",
            "complete loading day 13\n",
            "complete loading day 1\n",
            "complete loading day 8\n"
          ]
        }
      ],
      "source": [
        "datasets = {}\n",
        "filenames = {}\n",
        "days = []\n",
        "\n",
        "for day_dir in glob.glob('data/cdfs/images/fsmi_image/*'):\n",
        "    \n",
        "    day = int(re.findall(r'data/cdfs/images/fsmi_image/200802([\\d]{2})', day_dir)[0])\n",
        "    \n",
        "    day_datasets = {}\n",
        "    day_filenames = []\n",
        "\n",
        "    for files in glob.glob(day_dir + '/*'):\n",
        "        day_filenames.append(files)\n",
        "        xarr = cdflib.cdf_to_xarray(files, to_datetime=True)\n",
        "        images = xarr['thg_asf_fsmi'].to_numpy()\n",
        "        times = xarr['thg_asf_fsmi_epoch'].dt.strftime('%Y%m%d%H%M%S').to_numpy()\n",
        "        day_datasets[files] = (images, times)\n",
        "    \n",
        "    print(f'complete loading day {day}')\n",
        "    \n",
        "    days.append(day)\n",
        "    datasets[day] = day_datasets\n",
        "    filenames[day] = day_filenames"
      ]
    },
    {
      "cell_type": "markdown",
      "id": "f68283ad",
      "metadata": {
        "id": "f68283ad"
      },
      "source": [
        "# Save Images as png\n",
        "\n",
        "Images are preprocessed and saved as png under `/data/images/fsmi/YYYYMMDD/`. "
      ]
    },
    {
      "cell_type": "code",
      "execution_count": null,
      "id": "0fa9bd3d",
      "metadata": {
        "id": "0fa9bd3d",
        "outputId": "c29f417b-bd46-4d51-ea95-03447a9b74dc"
      },
      "outputs": [
        {
          "name": "stdout",
          "output_type": "stream",
          "text": [
            "complete saving images of day 16\n",
            "complete saving images of day 11\n",
            "complete saving images of day 18\n",
            "complete saving images of day 20\n",
            "complete saving images of day 21\n",
            "complete saving images of day 19\n",
            "complete saving images of day 10\n",
            "complete saving images of day 17\n",
            "complete saving images of day 28\n",
            "complete saving images of day 4\n",
            "complete saving images of day 3\n",
            "complete saving images of day 2\n",
            "complete saving images of day 5\n",
            "complete saving images of day 12\n",
            "complete saving images of day 15\n",
            "complete saving images of day 23\n",
            "complete saving images of day 24\n",
            "complete saving images of day 25\n",
            "complete saving images of day 22\n",
            "complete saving images of day 14\n",
            "complete saving images of day 13\n",
            "complete saving images of day 1\n",
            "complete saving images of day 8\n"
          ]
        }
      ],
      "source": [
        "for day in datasets:\n",
        "    date_dir = re.findall(r'data/cdfs/images/fsmi_image/([\\d]{8})', filenames[day][0])[0]\n",
        "    dest_path = 'data/images/fsmi/' + date_dir\n",
        "    \n",
        "    os.makedirs(dest_path)\n",
        "    \n",
        "    for filename, dataset in datasets[day].items():\n",
        "        convert_cdf_to_png(dataset[0], dataset[1], dest_path)\n",
        "    \n",
        "    print(f'complete saving images of day {day}')"
      ]
    },
    {
      "cell_type": "code",
      "execution_count": null,
      "id": "540cecf6",
      "metadata": {
        "id": "540cecf6"
      },
      "outputs": [],
      "source": []
    }
  ],
  "metadata": {
    "kernelspec": {
      "display_name": "Python 3",
      "language": "python",
      "name": "python3"
    },
    "language_info": {
      "codemirror_mode": {
        "name": "ipython",
        "version": 3
      },
      "file_extension": ".py",
      "mimetype": "text/x-python",
      "name": "python",
      "nbconvert_exporter": "python",
      "pygments_lexer": "ipython3",
      "version": "3.8.8"
    },
    "colab": {
      "provenance": []
    }
  },
  "nbformat": 4,
  "nbformat_minor": 5
}